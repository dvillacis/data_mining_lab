{
 "cells": [
  {
   "cell_type": "markdown",
   "metadata": {},
   "source": [
    "# Linear Regression\n",
    "In this lab we will review one of the most basic regression algorithms for data exploration, its mathematical background is quite simple and we will further see its big limitations."
   ]
  },
  {
   "cell_type": "markdown",
   "metadata": {},
   "source": [
    "## Wine Dataset\n",
    "Let us start describing the dataset we will be working on. The dataset can be downloaded from the [UCI Machine Learning Repository](https://archive.ics.uci.edu/ml/datasets/Wine+Quality). This dataset contains samples from the *vinho verde* wine producer both for white and red wine.The goal is to model wine quality based on physicochemical tests."
   ]
  },
  {
   "cell_type": "markdown",
   "metadata": {},
   "source": [
    "## Training Data Loading\n",
    "In the previous notebook we extracted and curated the original provided data and exported a compressed file jld. Let us retrieve the used information"
   ]
  },
  {
   "cell_type": "code",
   "execution_count": 1,
   "metadata": {},
   "outputs": [],
   "source": [
    "using JLD, DataFrames\n",
    "d = load(pwd()*\"/data/clean_data/dataset.jld\");\n",
    "x_train = Array(d[\"x_train\"]);\n",
    "y_train = d[\"y_train\"];\n",
    "x_test = Array(d[\"x_test\"]);\n",
    "y_test = Array(d[\"y_test\"]);"
   ]
  },
  {
   "cell_type": "markdown",
   "metadata": {},
   "source": [
    "Add a columns of ones to the x train and test matrix so it counts the bias term as well"
   ]
  },
  {
   "cell_type": "code",
   "execution_count": 2,
   "metadata": {},
   "outputs": [],
   "source": [
    "m,n = size(x_train);\n",
    "x_train = hcat(ones(m),x_train);\n",
    "o,p = size(x_test);\n",
    "x_test = hcat(ones(o),x_test);"
   ]
  },
  {
   "cell_type": "markdown",
   "metadata": {},
   "source": [
    "## Linear Regression\n",
    "We will find a linear regression approximaiton to our data, as seen in class, we can find a closed solution easily\n",
    "$$\n",
    "\\hat{\\beta} = (X^\\top X)^{-1}X^\\top y\n",
    "$$"
   ]
  },
  {
   "cell_type": "code",
   "execution_count": 3,
   "metadata": {},
   "outputs": [
    {
     "data": {
      "text/plain": [
       "12-element Array{Float64,1}:\n",
       "  5.76947  \n",
       " -0.1095   \n",
       " -1.597    \n",
       " -0.0547709\n",
       "  0.0538583\n",
       " -1.08264  \n",
       "  0.525548 \n",
       " -1.28062  \n",
       "  0.171474 \n",
       " -0.861531 \n",
       "  1.48619  \n",
       "  1.85638  "
      ]
     },
     "execution_count": 3,
     "metadata": {},
     "output_type": "execute_result"
    }
   ],
   "source": [
    "beta_hat = (x_train'*x_train)\\(x_train'*y_train)"
   ]
  },
  {
   "cell_type": "code",
   "execution_count": 4,
   "metadata": {},
   "outputs": [
    {
     "data": {
      "text/plain": [
       "540.7602176986741"
      ]
     },
     "execution_count": 4,
     "metadata": {},
     "output_type": "execute_result"
    }
   ],
   "source": [
    "y_linear_train_predicted = x_train * beta_hat;\n",
    "error = sum((y_train-y_linear_train_predicted).^2)"
   ]
  },
  {
   "cell_type": "code",
   "execution_count": 5,
   "metadata": {},
   "outputs": [
    {
     "data": {
      "text/plain": [
       "129.29261196757125"
      ]
     },
     "execution_count": 5,
     "metadata": {},
     "output_type": "execute_result"
    }
   ],
   "source": [
    "y_linear_test_predicted = x_test * beta_hat;\n",
    "error = sum((y_test-y_linear_test_predicted).^2)"
   ]
  },
  {
   "cell_type": "code",
   "execution_count": 6,
   "metadata": {},
   "outputs": [
    {
     "data": {
      "text/plain": [
       "12"
      ]
     },
     "execution_count": 6,
     "metadata": {},
     "output_type": "execute_result"
    }
   ],
   "source": [
    "rank(x_train)"
   ]
  },
  {
   "cell_type": "code",
   "execution_count": 7,
   "metadata": {},
   "outputs": [
    {
     "name": "stderr",
     "output_type": "stream",
     "text": [
      "\u001b[1m\u001b[36mINFO: \u001b[39m\u001b[22m\u001b[36mPrecompiling module MultivariateStats.\n",
      "\u001b[39m"
     ]
    },
    {
     "data": {
      "text/plain": [
       "12-element Array{Float64,1}:\n",
       "  5.76947  \n",
       " -0.1095   \n",
       " -1.597    \n",
       " -0.0547709\n",
       "  0.0538583\n",
       " -1.08264  \n",
       "  0.525548 \n",
       " -1.28062  \n",
       "  0.171474 \n",
       " -0.861531 \n",
       "  1.48619  \n",
       "  1.85638  "
      ]
     },
     "execution_count": 7,
     "metadata": {},
     "output_type": "execute_result"
    }
   ],
   "source": [
    "using MultivariateStats\n",
    "a = llsq(x_train, y_train; bias=false)"
   ]
  },
  {
   "cell_type": "markdown",
   "metadata": {},
   "source": [
    "## Ridge Regression"
   ]
  },
  {
   "cell_type": "code",
   "execution_count": 8,
   "metadata": {},
   "outputs": [
    {
     "data": {
      "text/plain": [
       "12-element Array{Float64,1}:\n",
       "  5.7221   \n",
       " -0.0531601\n",
       " -1.57937  \n",
       " -0.0474178\n",
       "  0.0631675\n",
       " -1.04183  \n",
       "  0.515584 \n",
       " -1.25182  \n",
       "  0.143518 \n",
       " -0.792756 \n",
       "  1.48103  \n",
       "  1.84717  "
      ]
     },
     "execution_count": 8,
     "metadata": {},
     "output_type": "execute_result"
    }
   ],
   "source": [
    "lambda = 0.1;\n",
    "beta_ridge = (x_train'*x_train + lambda * eye(n+1))\\(x_train'*y_train)"
   ]
  },
  {
   "cell_type": "code",
   "execution_count": 9,
   "metadata": {},
   "outputs": [
    {
     "data": {
      "text/plain": [
       "545.2489419597015"
      ]
     },
     "execution_count": 9,
     "metadata": {},
     "output_type": "execute_result"
    }
   ],
   "source": [
    "y_ridge_train_predicted = x_train * beta_ridge;\n",
    "error = sum((y_train-y_ridge_train_predicted).^2) + lambda * sum(beta_ridge.^2)"
   ]
  },
  {
   "cell_type": "code",
   "execution_count": 11,
   "metadata": {},
   "outputs": [
    {
     "data": {
      "text/plain": [
       "133.44751980260483"
      ]
     },
     "execution_count": 11,
     "metadata": {},
     "output_type": "execute_result"
    }
   ],
   "source": [
    "y_ridge_predicted = x_test * beta_ridge;\n",
    "error = sum((y_test-y_ridge_predicted).^2)+ lambda * sum(beta_ridge.^2)"
   ]
  },
  {
   "cell_type": "code",
   "execution_count": 12,
   "metadata": {},
   "outputs": [
    {
     "data": {
      "text/plain": [
       "12-element Array{Float64,1}:\n",
       "  5.7221   \n",
       " -0.0531601\n",
       " -1.57937  \n",
       " -0.0474178\n",
       "  0.0631675\n",
       " -1.04183  \n",
       "  0.515584 \n",
       " -1.25182  \n",
       "  0.143518 \n",
       " -0.792756 \n",
       "  1.48103  \n",
       "  1.84717  "
      ]
     },
     "execution_count": 12,
     "metadata": {},
     "output_type": "execute_result"
    }
   ],
   "source": [
    "a = ridge(x_train, y_train, lambda; bias=false)"
   ]
  },
  {
   "cell_type": "code",
   "execution_count": 18,
   "metadata": {},
   "outputs": [
    {
     "name": "stdout",
     "output_type": "stream",
     "text": [
      "1\n"
     ]
    },
    {
     "data": {
      "text/plain": [
       "1000-element Array{Float64,1}:\n",
       " 2.35459\n",
       " 2.35459\n",
       " 2.35459\n",
       " 2.35459\n",
       " 2.35459\n",
       " 2.35459\n",
       " 2.35459\n",
       " 2.35459\n",
       " 2.35459\n",
       " 2.35459\n",
       " 2.35459\n",
       " 2.35459\n",
       " 2.35459\n",
       " ⋮      \n",
       " 2.35459\n",
       " 2.35459\n",
       " 2.35459\n",
       " 2.35459\n",
       " 2.35459\n",
       " 2.35459\n",
       " 2.35459\n",
       " 2.35459\n",
       " 2.35459\n",
       " 2.35459\n",
       " 2.35459\n",
       " 2.35459"
      ]
     },
     "execution_count": 18,
     "metadata": {},
     "output_type": "execute_result"
    }
   ],
   "source": [
    "# prepare data\n",
    "X = ones(1000, 3)\n",
    "a0, b0 = rand(3), rand()\n",
    "y = X * a0 + b0 + 0.1 * randn(1000)\n",
    "println(rank(X))\n",
    "\n",
    "# solve using llsq\n",
    "l = 0.1\n",
    "sol = ridge(X, y, l)\n",
    "\n",
    "# extract results\n",
    "a, b = sol[1:end-1], sol[end]\n",
    "\n",
    "# do prediction\n",
    "yp = X * a + b"
   ]
  },
  {
   "cell_type": "markdown",
   "metadata": {},
   "source": [
    "## Lasso Regression"
   ]
  },
  {
   "cell_type": "code",
   "execution_count": null,
   "metadata": {},
   "outputs": [],
   "source": []
  }
 ],
 "metadata": {
  "kernelspec": {
   "display_name": "Julia 0.6.2",
   "language": "julia",
   "name": "julia-0.6"
  },
  "language_info": {
   "file_extension": ".jl",
   "mimetype": "application/julia",
   "name": "julia",
   "version": "0.6.2"
  }
 },
 "nbformat": 4,
 "nbformat_minor": 2
}
